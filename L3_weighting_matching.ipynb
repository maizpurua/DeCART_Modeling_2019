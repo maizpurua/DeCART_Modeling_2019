{
 "cells": [
  {
   "cell_type": "markdown",
   "metadata": {},
   "source": [
    "$$\n",
    "\\newcommand{P}[1]{\\mathrm{P}\\left( #1 \\right)}\n",
    "\\newcommand{Pc}[2]{\\mathrm{P}\\left( #1 \\mid #2 \\right)}\n",
    "\\newcommand{Ec}[2]{\\mathrm{E}\\left( #1 \\mid #2 \\right)}\n",
    "\\newcommand{In}[2]{ #1 \\perp\\!\\!\\!\\perp #2}\n",
    "\\newcommand{Cin}[3]{ #1 \\perp\\!\\!\\!\\perp #2 \\, | \\, #3}\n",
    "\\newcommand{do}[1]{\\mathrm{do}\\left( #1 \\right)}\n",
    "\\newcommand{\\ci}{\\perp\\!\\!\\!\\perp}\n",
    "$$"
   ]
  },
  {
   "cell_type": "markdown",
   "metadata": {},
   "source": [
    "# More on Counterfactual Models: Modeling Aproaches\n",
    "\n",
    "Day 3 Module 3"
   ]
  },
  {
   "cell_type": "markdown",
   "metadata": {},
   "source": [
    "## Matching Based Methods\n",
    "\n",
    "We have seen in our smoking study example the usefulness of regression based method in estimating the causal effect ATE. \n",
    "\n",
    "In this case the method has done well in identifying the correct ATE - which is good, but the data generating process was specifically designed to meet the assumptions. Let's look at another cases where it might fail."
   ]
  },
  {
   "cell_type": "code",
   "execution_count": 5,
   "metadata": {},
   "outputs": [],
   "source": [
    "from __future__ import division\n",
    "from sklearn.preprocessing import PolynomialFeatures\n",
    "from causalinference import CausalModel\n",
    "\n",
    "import numpy as np\n",
    "np.warnings.filterwarnings('ignore')\n",
    "import pandas as pd\n",
    "import matplotlib.pyplot as plt\n",
    "import seaborn as sns\n",
    "\n",
    "sns.set_style(\"whitegrid\")\n",
    "sns.set_palette(\"colorblind\")\n",
    "\n",
    "%matplotlib inline"
   ]
  },
  {
   "cell_type": "markdown",
   "metadata": {},
   "source": [
    "Let us look at the following example, where we have nonlinear relationship:\n",
    "\n",
    "Now for subject $i$ ($i=1,\\cdots,1000$), we generate \n",
    "\n",
    "* the confounder $X_i \\sim N(0,1)$;\n",
    "* binary treatment indicator $A$ from $\\text{logit}[\\Pc{A_i=1}{X_i}]=1 + 2 X_i$;\n",
    "* the (true) counterfactuals: \n",
    "    - $Y^0_i = 2 X_i + \\epsilon_i$\n",
    "    - <font color='blue'>$Y^1_i = 1 + 2 X_i - 3I(X_i<0) + \\epsilon_i$</font>\n",
    "    - where $\\epsilon_i \\sim N(0,0.3^2)$\n",
    "* the observed outcome $Y_i = Y^1_i \\times A_i + Y^0_i \\times (1 - A_i)$"
   ]
  },
  {
   "cell_type": "code",
   "execution_count": 6,
   "metadata": {},
   "outputs": [
    {
     "data": {
      "text/plain": [
       "<matplotlib.axes._subplots.AxesSubplot at 0x1b37abc18d0>"
      ]
     },
     "execution_count": 6,
     "metadata": {},
     "output_type": "execute_result"
    },
    {
     "data": {
      "image/png": "[encoded data removed]",
      "text/plain": [
       "<matplotlib.figure.Figure at 0x1b374211d68>"
      ]
     },
     "metadata": {},
     "output_type": "display_data"
    }
   ],
   "source": [
    "\"\"\"\n",
    "Data Example 2\n",
    "  \n",
    "\"\"\"\n",
    "n_samples = 1000\n",
    "X = np.random.normal(size=n_samples)\n",
    "p_a = np.exp(0.1 + 2 * X)/(1 + np.exp(0.1 + 2 * X))\n",
    "A = np.random.binomial(n=1, p=p_a, size=n_samples)\n",
    "eY = 0.3 * np.random.normal(size=n_samples)\n",
    "Y0 = 2 * X + eY\n",
    "Y1 = np.where(X < 0, Y0-2, Y0+1)\n",
    "Y = np.where(A == 0, Y0, Y1)\n",
    "data_example2 = pd.DataFrame({\"X\":X, \"A\":A, \"Y\":Y, \"Y0\":Y0, \"Y1\":Y1})\n",
    "\n",
    "data_example2.plot.scatter(x=\"X\", y=\"Y\", c=\"A\", cmap=\"rainbow\", colorbar=False)"
   ]
  },
  {
   "cell_type": "code",
   "execution_count": 7,
   "metadata": {},
   "outputs": [
    {
     "name": "stdout",
     "output_type": "stream",
     "text": [
      "Estimated Association: 2.508 (0.268)\n",
      "Simulated ATE: -0.518\n",
      "Simulated ATC: -1.391\n",
      "Simulated ATT: 0.266\n"
     ]
    }
   ],
   "source": [
    "ctrl_grp = data_example2[data_example2.A == 0]\n",
    "trt_grp = data_example2[data_example2.A == 1]\n",
    "alpha = trt_grp.Y.mean() - ctrl_grp.Y.mean()\n",
    "alpha_err = 1.96 * np.sqrt(\n",
    "        trt_grp.Y.var() / trt_grp.shape[0] + \n",
    "        ctrl_grp.Y.var() / ctrl_grp.shape[0])\n",
    "print(\"Estimated Association: {:.3f}\".format(alpha), \"({:.3f})\".format(alpha_err))\n",
    "\n",
    "\n",
    "theta = data_example2.Y1.mean() - data_example2.Y0.mean()\n",
    "print(\"Simulated ATE: {:.3f}\".format(theta))\n",
    "theta1 = ctrl_grp.Y1.mean() - ctrl_grp.Y0.mean()\n",
    "print(\"Simulated ATC: {:.3f}\".format(theta1))\n",
    "theta2 = trt_grp.Y1.mean() - trt_grp.Y0.mean()\n",
    "print(\"Simulated ATT: {:.3f}\".format(theta2))"
   ]
  },
  {
   "cell_type": "code",
   "execution_count": 8,
   "metadata": {},
   "outputs": [
    {
     "name": "stdout",
     "output_type": "stream",
     "text": [
      "\n",
      "Treatment Effect Estimates: OLS\n",
      "\n",
      "                     Est.       S.e.          z      P>|z|      [95% Conf. int.]\n",
      "--------------------------------------------------------------------------------\n",
      "           ATE     -0.544      0.086     -6.302      0.000     -0.713     -0.375\n",
      "\n"
     ]
    }
   ],
   "source": [
    "cm = CausalModel(\n",
    "    Y=data_example2.Y.values, \n",
    "    D=data_example2.A.values, \n",
    "    X=data_example2.X.values)\n",
    "\n",
    "cm.est_via_ols(adj=1)\n",
    "\n",
    "print(cm.estimates)"
   ]
  },
  {
   "cell_type": "markdown",
   "metadata": {},
   "source": [
    "## Matching Based Method\n",
    "\n",
    "Usually this can be overcome by using more powerful estimators . A simple, non-parametric approach, is the technique of [matching](https://en.wikipedia.org/wiki/Matching_%28statistics%29). The idea is to find for each sample which received the treatment, a similar samples which did not receive the treatment, and to directly compare these values. Exactly what you mean by \"similar\" will depend on your specific usecase.\n",
    "\n",
    "In our simple example, this means we use a matched observed outcome to imput a missing counterfactual:\n",
    "\n",
    "| index $i$ | $X_i$ | $A_i$ | $Y_i$ | $Y_i^0$ (matching) | $Y_i^1$ (matching) |\n",
    "| --- | --- | --- | --- | --- | --- | \n",
    "| 1 | 0 | 0 | 4 | <font color='red'>$Y_1$</font> | <font color='green'>$Y_4$</font> |\n",
    "| 2 | 0 | 0 | 3 | <font color='red'>$Y_2$</font> | <font color='green'>$Y_4$</font> |\n",
    "| 3 | 0 | 0 | 5 | <font color='red'>$Y_3$</font> | <font color='green'>$Y_4$</font> |\n",
    "| 4 | 0 | 1 | 8 | <font color='green'>$Y_1$</font> | <font color='red'>$Y_4$</font> |\n",
    "| 5 | 1 | 0 | 2 | <font color='red'>$Y_5$</font> | <font color='green'>$Y_7$</font> |\n",
    "| 6 | 1 | 0 | 4 | <font color='red'>$Y_6$</font> | <font color='green'>$Y_7$</font> |\n",
    "| 7 | 1 | 1 | 8 | <font color='green'>$Y_5$</font> | <font color='red'>$Y_7$</font> |\n",
    "| 8 | 1 | 1 | 6 | <font color='green'>$Y_5$</font> | <font color='red'>$Y_8$</font> |\n",
    "\n",
    "For the smoking example, the package `causalinference` implements matching by selecting for each unit, with replacement, the most similar unit from the other treatment group and using the difference between these two units to calculate the ATE. By default, the choice of match is chosen to be the nearest neighbour in covariate space $X$, with the distances weighted by inverse variance of each dimension.\n",
    "\n",
    "There are options to change the number of units compared and the weighting of each dimension in the match. For more details, see the [documentation](http://laurence-wong.com/software/matching).\n",
    "\n",
    "We can compute the matching estimate with the following code"
   ]
  },
  {
   "cell_type": "code",
   "execution_count": 9,
   "metadata": {},
   "outputs": [
    {
     "name": "stdout",
     "output_type": "stream",
     "text": [
      "\n",
      "Treatment Effect Estimates: Matching\n",
      "\n",
      "                     Est.       S.e.          z      P>|z|      [95% Conf. int.]\n",
      "--------------------------------------------------------------------------------\n",
      "           ATE     -0.487      0.172     -2.827      0.005     -0.825     -0.149\n",
      "           ATC     -1.353      0.235     -5.767      0.000     -1.813     -0.893\n",
      "           ATT      0.289      0.222      1.307      0.191     -0.145      0.724\n",
      "\n"
     ]
    }
   ],
   "source": [
    "cm = CausalModel(\n",
    "    Y=data_example2.Y.values, \n",
    "    D=data_example2.A.values, \n",
    "    X=data_example2.X.values)\n",
    "\n",
    "cm.est_via_matching()\n",
    "\n",
    "print(cm.estimates)"
   ]
  },
  {
   "cell_type": "markdown",
   "metadata": {},
   "source": [
    "The confidence intervals around our estimate now contain the true ATE."
   ]
  },
  {
   "cell_type": "markdown",
   "metadata": {},
   "source": [
    "The OLS estimator fails to capture the true effect, while the matching based estimator yields the correct estimation.\n",
    "\n",
    "`causalinference` provides a useful tool to quickly assess the overlap of the variables using the `summary_stats` property:"
   ]
  },
  {
   "cell_type": "code",
   "execution_count": 10,
   "metadata": {},
   "outputs": [
    {
     "name": "stdout",
     "output_type": "stream",
     "text": [
      "\n",
      "Summary Statistics\n",
      "\n",
      "                       Controls (N_c=473)         Treated (N_t=527)             \n",
      "       Variable         Mean         S.d.         Mean         S.d.     Raw-diff\n",
      "--------------------------------------------------------------------------------\n",
      "              Y       -1.239        1.548        1.269        2.675        2.508\n",
      "\n",
      "                       Controls (N_c=473)         Treated (N_t=527)             \n",
      "       Variable         Mean         S.d.         Mean         S.d.     Nor-diff\n",
      "--------------------------------------------------------------------------------\n",
      "             X0       -0.634        0.760        0.510        0.772        1.493\n",
      "\n"
     ]
    }
   ],
   "source": [
    "print(cm.summary_stats)"
   ]
  },
  {
   "cell_type": "markdown",
   "metadata": {},
   "source": [
    "Where the Normalized difference is defined as\n",
    "\n",
    "$\\frac{\\bar{X}_{T} - \\bar{X}_{T}}{ (\\sigma^{2}_{T} + \\sigma^{2}_{C})/2 } $\n",
    "\n",
    "While it isn't a strict statistical test, it provides some indication how much overlap there is between each covariate. Values greater than one suggest there isn't much overlap."
   ]
  },
  {
   "cell_type": "markdown",
   "metadata": {},
   "source": [
    "# Propensity Score\n",
    "\n",
    "For dichotomous treatments, we denote the 'true' propensity score as\n",
    "$e_i=e(\\boldsymbol{X}_i)=\\Pc{A_i=1}{X_{1i}},X_{2i},\\cdots,X_{pi}$.\n",
    "\n",
    "The propensity score has two fundamental properties in causal inference:\n",
    "* **Balancing property**: Treatment assignment is conditionally independent of the covariates given the propensity score. \n",
    "    - $A_i\\ci \\boldsymbol{X}_i | e(\\boldsymbol{X}_i)$ (sufficient dimension reduction)\n",
    "* **Unconfoundedness**: Under conditional exchangeability, the counterfactual outcomes are conditionally independent given the propensity score: \n",
    "    - $Y_i^a\\ci A_i | e(\\boldsymbol{X}_i)$ for $a=0,1$\n",
    "\n",
    "### Balancing Scores\n",
    "In fact, propensity score is a special case of a more generally defined score function -- Balancing Score\n",
    "\n",
    "Any function $b(\\boldsymbol{X})$ of $\\boldsymbol{X}$ satisfies $A \\ci \\boldsymbol{X}\\,|\\,b(\\boldsymbol{X})$ is called a balancing score. \n",
    "\n",
    "**Theorem**:  A function $b(\\boldsymbol{X})$ is a balancing score if and only if $b(\\boldsymbol{X})$ is “finer” than $e(\\boldsymbol{X})$ in the sense that $e(\\boldsymbol{X})=f(b(\\boldsymbol{X}))$ for some function $f$. "
   ]
  },
  {
   "cell_type": "markdown",
   "metadata": {},
   "source": [
    "## Inverse Propensity Score Weighting (Inverse Probability Weighting, IPW)\n",
    "\n",
    "Remember that the problem of measuring causal inference is that we want to know the quantity $E[Y^{a}]$, but we only have access to samples from $E[Y^{a}|A=a]$.\n",
    "\n",
    "The density of a potential outcome can be expanded to give\n",
    "\n",
    "$P(Y^{a}) = P(Y^{a}| A = a)P(A = a)$\n",
    "\n",
    "This suggests that we can estimate the expectation \n",
    "\n",
    "$E[Y^{a}] = E[\\frac{Y^{a}}{P(A = a|X)}P(A=a|X)] = E[\\frac{Y^{a}}{P(A=a|X)}|A=a, X]$\n",
    "\n",
    "So if we weight each point by it's inverse propensity, we can recover the potential outcomes. The result is the [inverse propensity score weight estimator](https://en.wikipedia.org/wiki/Inverse_probability_weighting):\n",
    "\n",
    "$\\theta_{ipw} = \\frac{1}{N}\\left(\\sum_{i \\in 1} \\frac{Y_{i}}{\\hat{e}(X_{i})} - \\sum_{i \\in 0} \\frac{Y_{i}}{1 - \\hat{e}(X_{i})}\\right)$\n",
    "\n",
    "\n",
    "In our simple example, this means we weight the non-missing counterfactuals to represent the missing counterfactuals:\n",
    "\n",
    "$\\Pc{A_i=1}{X_i=0} = 1/4 \\\\\n",
    " \\Pc{A_i=0}{X_i=0} = 3/4 \\\\\n",
    " \\Pc{A_i=1}{X_i=1} = 1/2 \\\\\n",
    " \\Pc{A_i=0}{X_i=1} = 1/2$, \n",
    " \n",
    "thus we have\n",
    "\n",
    "| index $i$ | $X_i$ | $A_i$ | $Y_i$ | $Y_i^0$ (weighting) | $Y_i^1$ (weighting) |\n",
    "| --- | --- | --- | --- | --- | --- | \n",
    "| 1 | 0 | 0 | 4 | <font color='red'>$Y_1$</font>$\\times$<font color='green'>$\\frac{4}{3}$</font> | |\n",
    "| 2 | 0 | 0 | 3 | <font color='red'>$Y_2$</font>$\\times$<font color='green'>$\\frac{4}{3}$</font> | |\n",
    "| 3 | 0 | 0 | 5 | <font color='red'>$Y_3$</font>$\\times$<font color='green'>$\\frac{4}{3}$</font> | |\n",
    "| 4 | 0 | 1 | 8 | | <font color='red'>$Y_4$</font>$\\times$<font color='green'>4</font> |\n",
    "| 5 | 1 | 0 | 2 | <font color='red'>$Y_5$</font>$\\times$<font color='green'>2</font> | |\n",
    "| 6 | 1 | 0 | 4 | <font color='red'>$Y_6$</font>$\\times$<font color='green'>2</font> | |\n",
    "| 7 | 1 | 1 | 8 | | <font color='red'>$Y_7$</font>$\\times$<font color='green'>2</font> |\n",
    "| 8 | 1 | 1 | 6 | | <font color='red'>$Y_8$</font>$\\times$<font color='green'>2</font> |\n",
    "\n",
    "\n",
    "Next, let's see how it does in our simulation study:"
   ]
  },
  {
   "cell_type": "code",
   "execution_count": 11,
   "metadata": {},
   "outputs": [
    {
     "data": {
      "image/png": "[encoded data removed]",
      "text/plain": [
       "<matplotlib.figure.Figure at 0x1b37a91d4e0>"
      ]
     },
     "metadata": {},
     "output_type": "display_data"
    }
   ],
   "source": [
    "data_example2.plot.scatter(x=\"X\", y=\"Y\", c=\"A\", cmap=\"rainbow\", colorbar=False);"
   ]
  },
  {
   "cell_type": "code",
   "execution_count": 12,
   "metadata": {},
   "outputs": [
    {
     "name": "stdout",
     "output_type": "stream",
     "text": [
      "Estimated Association: 2.508 (0.268)\n",
      "Simulated ATE: -0.518\n"
     ]
    }
   ],
   "source": [
    "ctrl_grp = data_example2[data_example2.A == 0]\n",
    "trt_grp = data_example2[data_example2.A == 1]\n",
    "alpha = trt_grp.Y.mean() - ctrl_grp.Y.mean()\n",
    "alpha_err = 1.96 * np.sqrt(\n",
    "        trt_grp.Y.var() / trt_grp.shape[0] + \n",
    "        ctrl_grp.Y.var() / ctrl_grp.shape[0])\n",
    "print(\"Estimated Association: {:.3f}\".format(alpha), \"({:.3f})\".format(alpha_err))\n",
    "\n",
    "theta = data_example2.Y1.mean() - data_example2.Y0.mean()\n",
    "print(\"Simulated ATE: {:.3f}\".format(theta))"
   ]
  },
  {
   "cell_type": "markdown",
   "metadata": {},
   "source": [
    "In practice, we never know $e(X_i)$'s and must use weights based on propensity scores estimated from logistic regression or modeling approaches instead\n",
    "\n",
    "We can estimate the propensity using the `CausalInference` package's methods `est_propensity_s` or `est_propensity`, which uses logistic regression on the covariate to estimate propensity:"
   ]
  },
  {
   "cell_type": "code",
   "execution_count": 15,
   "metadata": {},
   "outputs": [
    {
     "name": "stdout",
     "output_type": "stream",
     "text": [
      "Estimated ATE (by weighting based method): -0.462\n"
     ]
    }
   ],
   "source": [
    "cm = CausalModel(\n",
    "    Y=data_example2.Y.values, \n",
    "    D=data_example2.A.values, \n",
    "    X=data_example2.X.values)\n",
    "\n",
    "cm.est_propensity_s()\n",
    "\n",
    "propensity = cm.propensity[\"fitted\"]\n",
    "\n",
    "df = data_example2\n",
    "\n",
    "df[\"ips\"] = np.where(\n",
    "    df.A == 1, \n",
    "    1 / propensity,\n",
    "    1 / (1 - propensity))\n",
    "df[\"ipsw\"] = df.Y * df.ips\n",
    "\n",
    "ipse = (\n",
    "      df[df.A == 1][\"ipsw\"].sum() \n",
    "    - df[df.A == 0][\"ipsw\"].sum()\n",
    ") / df.shape[0]\n",
    "\n",
    "print(\"Estimated ATE (by weighting based method): {:.3f}\".format(ipse))"
   ]
  },
  {
   "cell_type": "markdown",
   "metadata": {},
   "source": [
    "This does well in our situation - by is very dependent on how good our estimate of the propensity score is - for the data generator we're using for this example the relationship can be described well by plain logistic regression."
   ]
  },
  {
   "cell_type": "markdown",
   "metadata": {},
   "source": [
    "$$\\def \\bX {\\textbf {X}}$$\n",
    "$$\\def \\balpha {\\boldsymbol{\\alpha}}$$\n",
    "$$\\def \\bbeta {\\boldsymbol{\\beta}}$$\n",
    "# Doubly Robust Weighted Estimator\n",
    "\n",
    "In practice, it might be difficult to know either the true model for outcome, or the true model for the weights, one solutuon is  to combine the inverse propensity score weighting estimators and the linear estimator of effect size together to try and reduce the flaws in either model. \n",
    "\n",
    "Such a proposal is called the [doubly robust weighted estimator](https://academic.oup.com/aje/article/173/7/761/103691), or the augmented inverse propensity weighted (AIPW) estimator.\n",
    "\n",
    "Recall two estimators we have discussed:\n",
    "\n",
    "* Regression Based Estimator for ATE: \n",
    "    - When assumptions are satisfied, we can identify the regression of $Y$ on $A$ and $\\boldsymbol{X}$, e.g. for continuous outcome, $E(Y\\vert A, \\bX)=m(A, \\bX; \\balpha)=\\alpha_0 + \\alpha_a A + \\bX^T\\boldsymbol{\\alpha}_X$\n",
    "    - We can estimate the mean of counterfactual $E(Y^1)$ as ${N}^{-1}\\sum_{i=1}^N m(A_i=1, \\bX_i; \\hat\\balpha)$\n",
    "    - Similarly, we can estimate the mean of counterfactual $E(Y^0)$ as ${N}^{-1}\\sum_{i=1}^N m(A_i=0, \\bX_i; \\hat\\balpha)$\n",
    "    - ATE can then be estimated as the difference between these two quantities\n",
    "    - It requires that **the outcome model be correctly specified**\n",
    "    \n",
    "* Weighting Based Estimator for ATE:\n",
    "    - When assumptions are satisfied, we can estimate the propensity score from the regression of $A$ on $\\bX$, e.g. we postulate a logistic regression model \n",
    "    $P(A=1\\vert \\bX) = e(\\bX; \\bbeta) = \\frac{\\exp(\\beta_0 + \\bX^T\\bbeta_1)}{1 + exp(\\beta_0 + \\bX^T\\bbeta_1)}$\n",
    "    - We can estimate the mean of counterfactual $E(Y^1)$ as $N^{-1}\\sum_{i=1}^N (A_iY_i)/{e(\\bX_i, \\boldsymbol{\\hat\\beta})}$\n",
    "    - We can estimate the mean of counterfactual $E(Y^0)$ as $N^{-1}\\sum_{i=1}^N (1 - A_i)Y_i/[1 - e(\\bX_i, \\boldsymbol{\\hat\\beta})]$\n",
    "    - ATE can then be estimated as the difference between these two quantities\n",
    "    - It requires that **the propensity score model be correctly specified**\n",
    "\n",
    "The Doubly Robust Estimator combines these two proposals, and estimates ATE as \n",
    "\n",
    "\n",
    "$\\hat\\theta_{AIPW} = \\hat E(Y^1) - \\hat E(Y^0) = N^{-1}\\sum_{i=1}^N\\left[\\frac{A_iY_i}{e(\\bX_i, \\boldsymbol{\\hat\\beta})} - \\frac{A_i - e(\\bX_i, \\boldsymbol{\\hat\\beta})}{e(\\bX_i, \\boldsymbol{\\hat\\beta})}m(A_i=1, \\bX_i, {\\hat\\balpha}) \\right]\n",
    "    - N^{-1}\\sum_{i=1}^N\\left[\\frac{(1 - A_i)Y_i}{1 - e(\\bX_i, \\boldsymbol{\\hat\\beta})} + \\frac{A_i - e(\\bX_i, \\boldsymbol{\\hat\\beta})}{1 - e(\\bX_i, \\boldsymbol{\\hat\\beta})}m(A_i=0, \\bX_i, \\hat\\balpha) \\right]$\n",
    "\n",
    "\n",
    "Intuitively, if there is big bias in either $m(A_i, \\bX_i, \\hat\\balpha)$ or $e(\\bX_i, \\boldsymbol{\\hat\\beta})$, there is an additional term in this new estimator that takes into account the other model. \n",
    "\n",
    "It can be shown that if\n",
    "* The regression model is incorrect but the propensity model is correct\n",
    "    \n",
    "    OR\n",
    "* The propensity model is incorrect but the regression model is correct\n",
    "    \n",
    "    then $\\hat\\theta_{AIPW}$ is a (consistent) estimator for the ATE.\n",
    "\n",
    "We can apply this estimator in our simulation study:"
   ]
  },
  {
   "cell_type": "code",
   "execution_count": 20,
   "metadata": {},
   "outputs": [
    {
     "name": "stdout",
     "output_type": "stream",
     "text": [
      "\n",
      "Treatment Effect Estimates: Weighting\n",
      "\n",
      "                     Est.       S.e.          z      P>|z|      [95% Conf. int.]\n",
      "--------------------------------------------------------------------------------\n",
      "           ATE     -0.796      0.070    -11.327      0.000     -0.934     -0.658\n",
      "\n"
     ]
    }
   ],
   "source": [
    "cm = CausalModel(\n",
    "    Y=data_example2.Y.values, \n",
    "    D=data_example2.A.values, \n",
    "    X=data_example2.X.values)\n",
    "\n",
    "cm.est_propensity_s()\n",
    "cm.est_via_weighting()\n",
    "\n",
    "print(cm.estimates)"
   ]
  },
  {
   "cell_type": "markdown",
   "metadata": {},
   "source": [
    "# Some Practical Issues \n",
    "\n",
    "The causal inference tools we discussed so far require the assumptions. Yet, in practice, these assumptions can never be tested. In this section, we will discuss some considerations regarding applying counterfactual modeling approaches in practice."
   ]
  },
  {
   "cell_type": "markdown",
   "metadata": {},
   "source": [
    "## About the Positivity Assumption\n",
    "\n",
    "When there are areas of covariate space which contains only the treated or untreated samples, i.e., there are some subgroup of patients who may hardly be assigned to one treatment arm, then the problem become difficult. We have to extrapolate the effect of the treatment - which will depend heavily on the additional assumptions we imposed on the model structure. \n",
    "\n",
    "We may look at the following example:"
   ]
  },
  {
   "cell_type": "markdown",
   "metadata": {},
   "source": [
    "Now for subject $i$ ($i=1,⋯,1000$), we generate\n",
    "\n",
    "* the confounder $X_i \\sim \\text{Uniform}(0,1)$;\n",
    "* binary treatment indicator $A \\sim \\text{Bernoulli}(p_{a,i})$, with \n",
    "\n",
    "$p_{a,i} = \\left\\{\n",
    "\\begin{array}{cc}\n",
    "0 & \\text{if }X_i<0.1\n",
    "\\\\\n",
    "X_i & \\text{if }0.1\\leq X_i \\leq 0.9\n",
    "\\\\\n",
    "1 & \\text{if }X_i > 0.9\n",
    "\\end{array}\n",
    "\\right.$\n",
    "* the (true) counterfactuals: \n",
    "    - $Y^0_i = -4(X_i - 0.3)\\times I(X_i\\geq 0.3) + \\epsilon_i$\n",
    "    - $Y^1_i = 1 - 4(X_i - 0.7)\\times I(X_i< 0.7) + \\epsilon_i$\n",
    "    - where $\\epsilon_i \\sim N(0,0.3^2)$\n",
    "* the observed outcome $Y_i = Y^1_i \\times A_i + Y^0_i \\times (1 - A_i)$"
   ]
  },
  {
   "cell_type": "code",
   "execution_count": 23,
   "metadata": {},
   "outputs": [
    {
     "data": {
      "text/plain": [
       "[<matplotlib.lines.Line2D at 0x1b37aa7d668>]"
      ]
     },
     "execution_count": 23,
     "metadata": {},
     "output_type": "execute_result"
    },
    {
     "data": {
      "image/png": "[encoded data removed]",
      "text/plain": [
       "<matplotlib.figure.Figure at 0x1b37b45c5c0>"
      ]
     },
     "metadata": {},
     "output_type": "display_data"
    }
   ],
   "source": [
    "\"\"\"\n",
    "Data Example 3\n",
    "  \n",
    "\"\"\"\n",
    "n_samples = 1000\n",
    "X = np.random.uniform(size=n_samples)\n",
    "p_a = np.where(X < 0.1, 0, np.where(X > 0.9, 1, X))\n",
    "A = np.random.binomial(n=1, p=p_a, size=n_samples)\n",
    "eY = 0.3 * np.random.normal(size=n_samples)\n",
    "Y0 = np.where(X >= 0.3, -4*(X - 0.3), 0) + eY\n",
    "Y1 = np.where(X < 0.7,  -4*(X - 0.7), 0) + 1 + eY\n",
    "Y = np.where(A == 0, Y0, Y1)\n",
    "data_example3 = pd.DataFrame({\"X\":X, \"A\":A, \"Y\":Y, \"Y0\":Y0, \"Y1\":Y1})\n",
    "\n",
    "data_example3.plot.scatter(x=\"X\", y=\"Y\", c=\"A\", cmap=\"rainbow\", colorbar=False)\n",
    "# latent traj\n",
    "t = np.linspace(0,1,100)\n",
    "y0 =  np.where(t >= 0.3, -4*(t - 0.3), 0)\n",
    "y1 =  np.where(t < 0.7,  -4*(t - 0.7), 0) + 1\n",
    "plt.plot(t, y0, \"b\")\n",
    "plt.plot(t, y1, \"r\")"
   ]
  },
  {
   "cell_type": "code",
   "execution_count": 24,
   "metadata": {},
   "outputs": [
    {
     "name": "stdout",
     "output_type": "stream",
     "text": [
      "Estimated Association: 1.892 (0.088)\n",
      "Simulated ATE: 2.954\n"
     ]
    }
   ],
   "source": [
    "ctrl_grp = data_example3[data_example3.A == 0]\n",
    "trt_grp = data_example3[data_example3.A == 1]\n",
    "alpha = trt_grp.Y.mean() - ctrl_grp.Y.mean()\n",
    "alpha_err = 1.96 * np.sqrt(\n",
    "        trt_grp.Y.var() / trt_grp.shape[0] + \n",
    "        ctrl_grp.Y.var() / ctrl_grp.shape[0])\n",
    "print(\"Estimated Association: {:.3f}\".format(alpha), \"({:.3f})\".format(alpha_err))\n",
    "\n",
    "theta = data_example3.Y1.mean() - data_example3.Y0.mean()\n",
    "print(\"Simulated ATE: {:.3f}\".format(theta))"
   ]
  },
  {
   "cell_type": "code",
   "execution_count": 25,
   "metadata": {},
   "outputs": [
    {
     "name": "stdout",
     "output_type": "stream",
     "text": [
      "\n",
      "Treatment Effect Estimates: OLS\n",
      "\n",
      "                     Est.       S.e.          z      P>|z|      [95% Conf. int.]\n",
      "--------------------------------------------------------------------------------\n",
      "           ATE      2.766      0.030     92.929      0.000      2.708      2.824\n",
      "           ATC      2.775      0.035     79.733      0.000      2.707      2.844\n",
      "           ATT      2.756      0.035     78.858      0.000      2.687      2.824\n",
      "\n"
     ]
    }
   ],
   "source": [
    "# OLS estimator\n",
    "cm = CausalModel(\n",
    "    Y=data_example3.Y.values, \n",
    "    D=data_example3.A.values, \n",
    "    X=data_example3.X.values)\n",
    "\n",
    "cm.est_via_ols()\n",
    "\n",
    "print(cm.estimates)"
   ]
  },
  {
   "cell_type": "code",
   "execution_count": 26,
   "metadata": {},
   "outputs": [
    {
     "name": "stdout",
     "output_type": "stream",
     "text": [
      "\n",
      "Treatment Effect Estimates: OLS\n",
      "\n",
      "                     Est.       S.e.          z      P>|z|      [95% Conf. int.]\n",
      "--------------------------------------------------------------------------------\n",
      "           ATE      2.766      0.030     92.929      0.000      2.708      2.824\n",
      "           ATC      2.775      0.035     79.733      0.000      2.707      2.844\n",
      "           ATT      2.756      0.035     78.858      0.000      2.687      2.824\n",
      "\n",
      "Treatment Effect Estimates: Matching\n",
      "\n",
      "                     Est.       S.e.          z      P>|z|      [95% Conf. int.]\n",
      "--------------------------------------------------------------------------------\n",
      "           ATE      2.875      0.091     31.426      0.000      2.696      3.054\n",
      "           ATC      2.800      0.139     20.108      0.000      2.527      3.073\n",
      "           ATT      2.959      0.104     28.451      0.000      2.755      3.162\n",
      "\n"
     ]
    }
   ],
   "source": [
    "# Matching estimator\n",
    "cm.est_via_matching()\n",
    "print(cm.estimates)"
   ]
  },
  {
   "cell_type": "markdown",
   "metadata": {},
   "source": [
    "### Trimming\n",
    "\n",
    "A simple solution is to only make predictions for the counterfactual in regions where there is a good overlap, or \"trim\" points where there is not good overlap. For high dimensional data \"good overlap\" can be difficult to define - using just the propensity score to define overlap is one way to solve this. \n",
    "\n",
    "`CausalInference` offers a method to trim the data based on the propensity score"
   ]
  },
  {
   "cell_type": "code",
   "execution_count": 27,
   "metadata": {},
   "outputs": [
    {
     "name": "stdout",
     "output_type": "stream",
     "text": [
      "\n",
      "Treatment Effect Estimates: Matching\n",
      "\n",
      "                     Est.       S.e.          z      P>|z|      [95% Conf. int.]\n",
      "--------------------------------------------------------------------------------\n",
      "           ATE      2.816      0.054     51.699      0.000      2.709      2.922\n",
      "           ATC      2.768      0.068     40.701      0.000      2.635      2.901\n",
      "           ATT      2.865      0.069     41.489      0.000      2.730      3.001\n",
      "\n"
     ]
    }
   ],
   "source": [
    "# OLS estimator\n",
    "cm = CausalModel(\n",
    "    Y=data_example3.Y.values, \n",
    "    D=data_example3.A.values, \n",
    "    X=data_example3.X.values)\n",
    "\n",
    "cm.est_propensity_s()\n",
    "cm.trim_s()\n",
    "cm.est_via_matching()\n",
    "\n",
    "print(cm.estimates)"
   ]
  },
  {
   "cell_type": "markdown",
   "metadata": {},
   "source": [
    "We can look at the remaining data in the following way"
   ]
  },
  {
   "cell_type": "code",
   "execution_count": 28,
   "metadata": {},
   "outputs": [
    {
     "name": "stdout",
     "output_type": "stream",
     "text": [
      "Simulated ATE: 2.831\n"
     ]
    },
    {
     "data": {
      "image/png": "[encoded data removed]",
      "text/plain": [
       "<matplotlib.figure.Figure at 0x1b37aab4208>"
      ]
     },
     "metadata": {},
     "output_type": "display_data"
    }
   ],
   "source": [
    "# mask out data ignored by the \n",
    "propensity = cm.propensity[\"fitted\"]\n",
    "cutoff = cm.cutoff\n",
    "mask = (propensity > cutoff) &  (propensity < 1 - cutoff)\n",
    "\n",
    "# plot the data\n",
    "data_example3[mask].plot.scatter(x=\"X\", y=\"Y\", c=\"A\", cmap=\"rainbow\", colorbar=False)\n",
    "\n",
    "# latent traj\n",
    "t = np.linspace(0,1,100)\n",
    "y0 =  np.where(t >= 0.3, -4*(t - 0.3), 0)\n",
    "y1 =  np.where(t < 0.7,  -4*(t - 0.7), 0) + 1\n",
    "plt.plot(t, y0, \"b\")\n",
    "plt.plot(t, y1, \"r\")\n",
    "\n",
    "filter_example3 = data_example3[mask]\n",
    "theta1 = filter_example3.Y1.mean() - filter_example3.Y0.mean()\n",
    "print(\"Simulated ATE: {:.3f}\".format(theta1))"
   ]
  },
  {
   "cell_type": "markdown",
   "metadata": {},
   "source": [
    "It does quite well in there cases.\n",
    "\n",
    "When we apply trimming, we are explicitly saying that it is only possible to make causal inferences for samples in some subgroup of patients. For samples outside these regions, we cannot say anything about the ATE."
   ]
  },
  {
   "cell_type": "markdown",
   "metadata": {},
   "source": [
    "### Stratification\n",
    "\n",
    "Another use of the propensity score is the stratification, or blocking, estimator. It consist of grouping the data points into groups of similar propensity, and to estimate the ATE within these groups. Again, `CausalInference` provides a nice interface to achieve this. \n",
    "\n",
    "We use the `stratify` (for user defined stata boundaries) or `stratify_s` (to automatically choose the boundaries) methods to determine the strata:"
   ]
  },
  {
   "cell_type": "code",
   "execution_count": 18,
   "metadata": {},
   "outputs": [
    {
     "name": "stdout",
     "output_type": "stream",
     "text": [
      "\n",
      "Stratification Summary\n",
      "\n",
      "              Propensity Score         Sample Size     Ave. Propensity   Outcome\n",
      "   Stratum      Min.      Max.  Controls   Treated  Controls   Treated  Raw-diff\n",
      "--------------------------------------------------------------------------------\n",
      "         1     0.002     0.117       117         9     0.058     0.086    -1.355\n",
      "         2     0.117     0.240       105        20     0.176     0.186    -2.009\n",
      "         3     0.240     0.550       153        97     0.385     0.395    -2.063\n",
      "         4     0.551     0.694        49        76     0.623     0.626     0.824\n",
      "         5     0.694     0.811        32        93     0.751     0.758     1.033\n",
      "         6     0.811     0.919        14       111     0.862     0.865     1.098\n",
      "         7     0.920     0.998         3       121     0.967     0.962     0.899\n",
      "\n"
     ]
    }
   ],
   "source": [
    "cm = CausalModel(\n",
    "    Y=data_example3.Y.values, \n",
    "    D=data_example3.A.values, \n",
    "    X=data_example3.X.values)\n",
    "\n",
    "cm.est_propensity_s()\n",
    "cm.stratify_s()\n",
    "\n",
    "print(cm.strata)"
   ]
  },
  {
   "cell_type": "markdown",
   "metadata": {},
   "source": [
    "and the `est_via_blocking` method to combine the estimates of these strata into one overall ATE:"
   ]
  },
  {
   "cell_type": "code",
   "execution_count": 19,
   "metadata": {},
   "outputs": [
    {
     "name": "stdout",
     "output_type": "stream",
     "text": [
      "\n",
      "Treatment Effect Estimates: Blocking\n",
      "\n",
      "                     Est.       S.e.          z      P>|z|      [95% Conf. int.]\n",
      "--------------------------------------------------------------------------------\n",
      "           ATE     -0.560      0.032    -17.508      0.000     -0.622     -0.497\n",
      "           ATC     -1.457      0.041    -35.733      0.000     -1.537     -1.377\n",
      "           ATT      0.246      0.039      6.262      0.000      0.169      0.322\n",
      "\n"
     ]
    }
   ],
   "source": [
    "cm.est_via_blocking()\n",
    "print(cm.estimates)"
   ]
  },
  {
   "cell_type": "markdown",
   "metadata": {},
   "source": [
    "Which again works well.\n",
    "\n",
    "Stratify the data into groups by propensity score is useful when we don't have any prior knowledge of what constitutes \"similar\" units, however it is not the only way. If you have prior knowledge the different groups of your samples are likely to be affected by the intervention in similar ways, it makes sense to split you samples into these groups before estimating the ATE, then pooling the results to get a global ATE. "
   ]
  }
 ],
 "metadata": {
  "kernelspec": {
   "display_name": "Python 3",
   "language": "python",
   "name": "python3"
  },
  "language_info": {
   "codemirror_mode": {
    "name": "ipython",
    "version": 3
   },
   "file_extension": ".py",
   "mimetype": "text/x-python",
   "name": "python",
   "nbconvert_exporter": "python",
   "pygments_lexer": "ipython3",
   "version": "3.6.4"
  },
  "toc": {
   "base_numbering": 1,
   "nav_menu": {},
   "number_sections": true,
   "sideBar": true,
   "skip_h1_title": false,
   "title_cell": "Table of Contents",
   "title_sidebar": "Contents",
   "toc_cell": false,
   "toc_position": {},
   "toc_section_display": true,
   "toc_window_display": false
  }
 },
 "nbformat": 4,
 "nbformat_minor": 2
}
